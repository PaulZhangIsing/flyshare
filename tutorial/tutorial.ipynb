{
 "cells": [
  {
   "cell_type": "code",
   "execution_count": 1,
   "metadata": {},
   "outputs": [
    {
     "name": "stdout",
     "output_type": "stream",
     "text": [
      "0.0.15"
     ]
    },
    {
     "name": "stdout",
     "output_type": "stream",
     "text": [
      "\n"
     ]
    }
   ],
   "source": [
    "import flyshare as fs\n",
    "\n",
    "print fs.__version__"
   ]
  },
  {
   "cell_type": "code",
   "execution_count": 2,
   "metadata": {},
   "outputs": [
    {
     "name": "stdout",
     "output_type": "stream",
     "text": [
      "              open    high   close     low     volume  price_change  p_change  \\\ndate                                                                            \n2017-11-20  676.80  685.60  679.27  660.00   88305.82        -10.98     -1.59   \n2017-11-17  696.00  709.00  690.20  677.77  123861.24        -28.91     -4.02   \n2017-11-16  686.01  719.96  718.80  686.01   60716.32         30.72      4.46   \n2017-11-15  678.75  689.99  687.98  674.00   45036.33          9.23      1.36   \n2017-11-14  687.14  687.22  678.87  677.35   46366.71         -9.01     -1.31   \n\n                ma5     ma10     ma20     v_ma5    v_ma10    v_ma20  turnover  \ndate                                                                           \n2017-11-20  691.024  676.376  646.688  72857.28  62139.28  59241.66      0.70  \n2017-11-17  692.748  673.755  641.395  65170.09  58160.09  56014.96      0.99  \n2017-11-16  690.308  668.652  635.601  55213.56  50592.87  51398.62      0.48  \n2017-11-15  676.608  659.464  628.791  49798.52  47946.21  50395.74      0.36  \n2017-11-14  669.088  652.967  622.428  49581.64  47786.10  49102.86      0.37  "
     ]
    },
    {
     "name": "stdout",
     "output_type": "stream",
     "text": [
      "\n"
     ]
    }
   ],
   "source": [
    "df = fs.get_hist_data('600519')\n",
    "\n",
    "print df.head()"
   ]
  },
  {
   "cell_type": "code",
   "execution_count": 3,
   "metadata": {},
   "outputs": [
    {
     "name": "stdout",
     "output_type": "stream",
     "text": [
      "                  Open        High         Low       Close   Adj Close  \\\nDate                                                                     \n2017-01-03  188.000000  191.100006  188.000000  189.399994  188.962357   \n2017-01-04  190.399994  190.500000  188.100006  189.000000  188.563293   \n2017-01-05  191.000000  194.199997  190.699997  193.300003  192.853363   \n2017-01-06  196.199997  196.800003  194.699997  195.100006  194.649200   \n2017-01-09  196.699997  196.899994  195.199997  195.600006  195.148041   \n\n              Volume  \nDate                  \n2017-01-03   9637272  \n2017-01-04  11411490  \n2017-01-05  20543005  \n2017-01-06  20077760  \n2017-01-09  13605277  "
     ]
    },
    {
     "name": "stdout",
     "output_type": "stream",
     "text": [
      "\n"
     ]
    }
   ],
   "source": [
    "df = fs.get_hist_data('0700.HK')\n",
    "\n",
    "print df.head()"
   ]
  },
  {
   "cell_type": "code",
   "execution_count": 4,
   "metadata": {},
   "outputs": [
    {
     "name": "stdout",
     "output_type": "stream",
     "text": [
      "                  Open        High         Low       Close   Adj Close  \\\nDate                                                                     \n2017-01-03  115.800003  116.330002  114.760002  116.150002  114.311760   \n2017-01-04  115.849998  116.510002  115.750000  116.019997  114.183815   \n2017-01-05  115.919998  116.860001  115.809998  116.610001  114.764473   \n2017-01-06  116.779999  118.160004  116.470001  117.910004  116.043915   \n2017-01-09  117.949997  119.430000  117.940002  118.989998  117.106812   \n\n              Volume  \nDate                  \n2017-01-03  28781900  \n2017-01-04  21118100  \n2017-01-05  22193600  \n2017-01-06  31751900  \n2017-01-09  33561900  "
     ]
    },
    {
     "name": "stdout",
     "output_type": "stream",
     "text": [
      "\n"
     ]
    }
   ],
   "source": [
    "df = fs.get_hist_data('AAPL')\n",
    "\n",
    "print df.head()"
   ]
  },
  {
   "cell_type": "code",
   "execution_count": 8,
   "metadata": {},
   "outputs": [],
   "source": [
    "df = fs.get_hist_data('600519', data_source='tdx')\n"
   ]
  },
  {
   "cell_type": "code",
   "execution_count": null,
   "metadata": {},
   "outputs": [],
   "source": []
  }
 ],
 "metadata": {
  "kernelspec": {
   "display_name": "Python 2",
   "language": "python",
   "name": "python2"
  },
  "language_info": {
   "codemirror_mode": {
    "name": "ipython",
    "version": 2
   },
   "file_extension": ".py",
   "mimetype": "text/x-python",
   "name": "python",
   "nbconvert_exporter": "python",
   "pygments_lexer": "ipython2",
   "version": "2.7.13"
  }
 },
 "nbformat": 4,
 "nbformat_minor": 1
}
